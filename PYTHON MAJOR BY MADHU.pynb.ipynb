{
 "cells": [
  {
   "cell_type": "code",
   "execution_count": 1,
   "metadata": {},
   "outputs": [
    {
     "name": "stdout",
     "output_type": "stream",
     "text": [
      "<class 'int'>\n",
      "<class 'str'>\n"
     ]
    }
   ],
   "source": [
    "# Q1. Find the datatype of these two declaration:\n",
    "\n",
    "x=5\n",
    "y=\"john\"\n",
    "print(type(x))\n",
    "print(type(y))"
   ]
  },
  {
   "cell_type": "code",
   "execution_count": 34,
   "metadata": {},
   "outputs": [
    {
     "ename": "SyntaxError",
     "evalue": "invalid syntax (3012046532.py, line 5)",
     "output_type": "error",
     "traceback": [
      "\u001b[1;36m  File \u001b[1;32m\"C:\\Users\\ak\\AppData\\Local\\Temp\\ipykernel_10332\\3012046532.py\"\u001b[1;36m, line \u001b[1;32m5\u001b[0m\n\u001b[1;33m    3a=10\u001b[0m\n\u001b[1;37m     ^\u001b[0m\n\u001b[1;31mSyntaxError\u001b[0m\u001b[1;31m:\u001b[0m invalid syntax\n"
     ]
    }
   ],
   "source": [
    "#2.Check whether the following syntax is valid or invalid for naming a variable.\n",
    "# :Example:\n",
    "# abc=100#validsyntax\n",
    "\n",
    "3a=10  #invalid syntax\n",
    "@abc=10 #invalid syntax\n",
    "a100=100 #valid syntax\n",
    "_a984_=100 #valid syntax\n",
    "a9967$=100 #invalid syntax\n",
    "xyz-2=100  #invalid syntax\n",
    "\n"
   ]
  },
  {
   "cell_type": "code",
   "execution_count": 7,
   "metadata": {},
   "outputs": [
    {
     "name": "stdout",
     "output_type": "stream",
     "text": [
      "3 is exist in list:\n",
      "9 is not exist is list:\n"
     ]
    }
   ],
   "source": [
    "#3.Check if element exists in list in Python : \n",
    "# list = test_list = [1, 6, 3, 5, 3, 4]\n",
    "# 1.Check if 3 exist or not\n",
    "\n",
    "test_list=[1,6,3,5,3,4]\n",
    "i=3\n",
    "if i in test_list:\n",
    "    print(\"3 is exist in list:\")\n",
    "else:\n",
    "    print(\"3 is not exist is list:\")\n",
    "\n",
    " #2. Check if 9 exists or not \n",
    "i=9\n",
    "if i in test_list:\n",
    "    print(\"9 is exist in list:\")\n",
    "else:\n",
    "    print(\"9 is not exist is list:\")\n",
    "\n"
   ]
  },
  {
   "cell_type": "code",
   "execution_count": 9,
   "metadata": {},
   "outputs": [
    {
     "name": "stdout",
     "output_type": "stream",
     "text": [
      "Today's date 2023-02-24\n"
     ]
    }
   ],
   "source": [
    "# 4.Take the user input to print the current date:\n",
    "from datetime import date\n",
    "days=input(date)\n",
    "print(days)\n"
   ]
  },
  {
   "cell_type": "code",
   "execution_count": 20,
   "metadata": {},
   "outputs": [
    {
     "name": "stdout",
     "output_type": "stream",
     "text": [
      "4\n",
      "1\n"
     ]
    }
   ],
   "source": [
    "#5.what is the out put of the following code:\n",
    "#a. print 9//2\n",
    "#b. print 9%2\n",
    "\n",
    "print(9//2)\n",
    "print(9%2)"
   ]
  },
  {
   "cell_type": "code",
   "execution_count": 35,
   "metadata": {},
   "outputs": [
    {
     "name": "stdout",
     "output_type": "stream",
     "text": [
      "The 10 nature number : 1 2 3 4 5 6 7 8 9 10 "
     ]
    }
   ],
   "source": [
    "#6.Print First 10 natural numbers using a while loop.\n",
    "\n",
    "i=1\n",
    "print(\"The 10 nature number :\",end=\" \")\n",
    "while i<=10:\n",
    "    print(i,end=\" \")\n",
    "    i=i+1\n"
   ]
  },
  {
   "cell_type": "code",
   "execution_count": 23,
   "metadata": {},
   "outputs": [
    {
     "name": "stdout",
     "output_type": "stream",
     "text": [
      "The total sum is : 55\n"
     ]
    }
   ],
   "source": [
    "7.#Write a program to accept a number from a user and calculate \n",
    "#the sum of all numbers from 1 to a given number. \n",
    "#For example, if the user entered 10 the output should be 55 (1+2+3+4+5+6+7+8+9+10)\n",
    "\n",
    "\n",
    "def sum_the_number(x):\n",
    "    total=0\n",
    "    for i in range(x+1):\n",
    "        total+=i\n",
    "    print(\"The total sum is :\",total)\n",
    "n=int(input(\" Enter the number:\"))\n",
    "sum_the_number(n)"
   ]
  },
  {
   "cell_type": "code",
   "execution_count": 22,
   "metadata": {},
   "outputs": [
    {
     "name": "stdout",
     "output_type": "stream",
     "text": [
      "FizzBuzz\n"
     ]
    }
   ],
   "source": [
    "#8. Write a Python program which iterates the integers from 1 to 50.\n",
    "#For multiples of three print \"Fizz\" instead of the number and for the multiples of five print \"Buzz\".\n",
    "#For numbers which are multiples of both three and five print \"FizzBuzz\". Example :\n",
    "\n",
    "\n",
    "num_1=int(input(\"Enter a number:\"))\n",
    "if num_1<=50:\n",
    "    if (num_1%3==0)&(num_1%5==0):\n",
    "        print(\"FizzBuzz\")\n",
    "    elif num_1%5==0:\n",
    "        print(\"Fizz\")\n",
    "    elif num_1%3==0:\n",
    "        print(\"Buzz\")\n",
    "    else:\n",
    "        print(\"This in not multiples three or five : \")\n",
    "else:\n",
    "    print(\"please enter value 1 to 50\")\n",
    "    "
   ]
  }
 ],
 "metadata": {
  "kernelspec": {
   "display_name": "base",
   "language": "python",
   "name": "python3"
  },
  "language_info": {
   "codemirror_mode": {
    "name": "ipython",
    "version": 3
   },
   "file_extension": ".py",
   "mimetype": "text/x-python",
   "name": "python",
   "nbconvert_exporter": "python",
   "pygments_lexer": "ipython3",
   "version": "3.9.13"
  },
  "orig_nbformat": 4,
  "vscode": {
   "interpreter": {
    "hash": "80b62ba6c2009d2408e71daf937f2268b54dedef02dd81f312d91f98354d48ad"
   }
  }
 },
 "nbformat": 4,
 "nbformat_minor": 2
}
